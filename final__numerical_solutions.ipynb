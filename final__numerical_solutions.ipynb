{
  "nbformat": 4,
  "nbformat_minor": 0,
  "metadata": {
    "colab": {
      "provenance": []
    },
    "kernelspec": {
      "name": "python3",
      "display_name": "Python 3"
    },
    "language_info": {
      "name": "python"
    }
  },
  "cells": [
    {
      "cell_type": "markdown",
      "source": [
        "# FitzHugh–Nagumo Numerical Simulation\n",
        "\n",
        "This code presents the full numerical implementation and simulation of the FitzHugh–Nagumo (FHN) partial differential equation, a classical reaction–diffusion model for excitable media, commonly used to describe neuron membrane dynamics and action potentials.\n",
        "\n",
        "## Objectives\n",
        "We aim to:\n",
        "- Solve the FHN PDE in 1D using two numerical schemes:\n",
        "  - Euler Finite Difference Method (FDM)\n",
        "  - Finite Volume Method (FVM)\n",
        "- Apply various initial and boundary conditions\n",
        "- Compare results with the analytical benchmark (when available)\n",
        "- Analyze accuracy, convergence, and relative errors\n",
        "- Visualize the solution evolution over time\n",
        "- Provide detailed result tables and error plots\n",
        "\n",
        "## Structure\n",
        "This code contains:\n",
        "1. Model setup and parameters  \n",
        "2. Implementation of both Euler-FDM and FVM schemes  \n",
        "3. Boundary and initial condition application  \n",
        "4. Full simulation with result plots and tables  \n",
        "5. Comparison with analytical solution  \n",
        "6. Error analysis and performance discussion"
      ],
      "metadata": {
        "id": "0g8Kn-TqZ1Dh"
      }
    },
    {
      "cell_type": "code",
      "execution_count": null,
      "metadata": {
        "id": "X7sxb6YMI4Sc"
      },
      "outputs": [],
      "source": [
        "# Libraries\n",
        "import numpy as np\n",
        "import matplotlib.pyplot as plt\n",
        "import time\n",
        "import pandas as pd"
      ]
    },
    {
      "cell_type": "markdown",
      "source": [
        "The first code cell imports the core Python libraries that will be used throughout this notebook:\n",
        "\n",
        "| Library | Alias | Purpose |\n",
        "|---------|-------|---------|\n",
        "| *NumPy* | np | Fast array operations, vectorized math, and numerical utilities |\n",
        "| *Matplotlib* | plt | Plotting 1-D and 2-D figures (solution curves, error distributions, etc.) |\n",
        "| *time* | — | Lightweight timing to benchmark execution (Euler vs FVM run-times) |\n",
        "| *Pandas* | pd | Tabular data structures for neatly printing solution tables and statistics |\n",
        "\n",
        "These imports are kept minimal—only the essentials required for numerical computation, visualization, and formatted result tables."
      ],
      "metadata": {
        "id": "A8xhtKQEKNuv"
      }
    },
    {
      "cell_type": "code",
      "source": [
        "# Global Parameters\n",
        "D, a = 1.0, 0.3\n",
        "xmin, xmax = -60, 20\n",
        "N_x = 401\n",
        "Tfinal = 60.0\n",
        "dt = 0.002\n",
        "x = np.linspace(xmin, xmax, N_x)\n",
        "dx = x[1] - x[0]\n",
        "Nt = int(Tfinal / dt)\n",
        "snap_times = np.arange(0, 61, 10)\n",
        "save_steps = (snap_times / dt).astype(int)"
      ],
      "metadata": {
        "id": "mlfAT1mKKN-w"
      },
      "execution_count": null,
      "outputs": []
    },
    {
      "cell_type": "markdown",
      "source": [
        "In this section, we define the global parameters used to numerically solve the FitzHugh–Nagumo equation:\n",
        "\n",
        "- D = 1.0: Diffusion coefficient in the PDE.\n",
        "- a = 0.3: Threshold parameter that controls the excitation.\n",
        "- xmin = -60, xmax = 20: The spatial domain ranges from -60 to 20.\n",
        "- N_x = 401: Number of grid points in the spatial domain.\n",
        "- Tfinal = 60.0: The final simulation time.\n",
        "- dt = 0.002: Time step size for the numerical integration.\n",
        "- x = np.linspace(xmin, xmax, N_x): Uniformly spaced spatial grid.\n",
        "- dx = x[1] - x[0]: Spatial resolution (grid spacing).\n",
        "- Nt = int(Tfinal / dt): Total number of time steps.\n",
        "- snap_times = np.arange(0, 61, 10): Time instances at which we save snapshots of the solution.\n",
        "- save_steps = (snap_times / dt).astype(int): Convert snapshot times into corresponding time step indices.\n",
        "\n",
        "These values control the accuracy and resolution of the numerical simulation using both Euler and FVM (Finite Volume Method)."
      ],
      "metadata": {
        "id": "T7bSw6-gKkF3"
      }
    },
    {
      "cell_type": "code",
      "source": [
        "def safe_exp(z): return np.exp(np.clip(z, -700, 700))"
      ],
      "metadata": {
        "id": "rIpaGry0KkbI"
      },
      "execution_count": null,
      "outputs": []
    },
    {
      "cell_type": "markdown",
      "source": [
        "To avoid numerical overflow during exponential calculations, we define a safe_exp function:"
      ],
      "metadata": {
        "id": "1WHYxHbnK0H4"
      }
    },
    {
      "cell_type": "code",
      "source": [
        "# Analytical Solution and Derivative\n",
        "def analytical_solution(x, t, D=1.0, a=0.3):\n",
        "    x = x.reshape(-1, 1) if isinstance(t, np.ndarray) else x\n",
        "    t = t.reshape(1, -1) if isinstance(t, np.ndarray) else t\n",
        "    arg = x / np.sqrt(2 * D) + (a - 0.5) * t\n",
        "    return 1 / (1 + safe_exp(arg))\n",
        "\n",
        "def ux_exact(x, t):\n",
        "    x = x.reshape(-1, 1) if isinstance(t, np.ndarray) else x\n",
        "    t = t.reshape(1, -1) if isinstance(t, np.ndarray) else t\n",
        "    arg = x / np.sqrt(2 * D) + (a - 0.5) * t\n",
        "    e = safe_exp(arg)\n",
        "    return -e / (np.sqrt(2 * D) * (1 + e)**2)"
      ],
      "metadata": {
        "id": "2jP2sf5WK0Yb"
      },
      "execution_count": null,
      "outputs": []
    },
    {
      "cell_type": "markdown",
      "source": [
        "###  Analytical Solution and Its Spatial Derivative\n",
        "\n",
        "The following expressions represent the exact analytical solution and its spatial derivative for the FitzHugh–Nagumo partial differential equation.\n",
        "\n",
        "#### Exact Analytical Solution\n",
        "\n",
        "The closed-form solution for the membrane potential is:\n",
        "\n",
        "$$\n",
        "u(x,t) = \\frac{1}{1 + \\exp\\left( \\frac{x}{\\sqrt{2D}} + (a - 0.5)t \\right)}\n",
        "$$\n",
        "\n",
        "This function describes how the potential evolves over time and space. It is used as a reference to initialize the system and to evaluate the accuracy of the numerical solvers.\n",
        "\n",
        "#### Exact Spatial Derivative\n",
        "\n",
        "The spatial derivative of the solution is given by:\n",
        "\n",
        "$$\n",
        "\\frac{\\partial u}{\\partial x} = -\\frac{e}{\\sqrt{2D}(1 + e)^2}, \\quad\n",
        "\\text{where} \\quad e = \\exp\\left( \\frac{x}{\\sqrt{2D}} + (a - 0.5)t \\right)\n",
        "$$\n",
        "\n",
        "This derivative is useful for:\n",
        "\n",
        "- Applying Neumann-type boundary conditions,\n",
        "- Comparing numerical approximations to exact gradients,\n",
        "- Calculating error metrics.\n",
        " comparing Euler FDM & FVM outputs to ground truth. |"
      ],
      "metadata": {
        "id": "RpE6H9J0ae-M"
      }
    },
    {
      "cell_type": "markdown",
      "source": [],
      "metadata": {
        "id": "RTeqhggnK9t2"
      }
    },
    {
      "cell_type": "code",
      "source": [
        "# Initial Conditions\n",
        "def ic_smooth(): return analytical_solution(x, 0).flatten()\n",
        "def ic_step():\n",
        "    u0 = np.ones_like(x)\n",
        "    u0[x > 0] = 0\n",
        "    u0[np.abs(x) < 1e-12] = 0.5\n",
        "    return u0"
      ],
      "metadata": {
        "id": "2nWKXe_HK96J"
      },
      "execution_count": null,
      "outputs": []
    },
    {
      "cell_type": "markdown",
      "source": [
        "### Initial Conditions\n",
        "\n",
        "In this section, we define the two initial conditions (ICs) used for solving the FitzHugh–Nagumo PDE:\n",
        "\n",
        "- *ic_smooth()*  \n",
        "  This function returns a smooth initial profile that matches the analytical solution at time t = 0.  \n",
        "  It is useful when we want to assess the accuracy of the numerical scheme, since the simulation starts from a known exact state.\n",
        "\n",
        "- *ic_step()*  \n",
        "  This function generates a unit-step profile:\n",
        "  - The value is 1 for all x < 0,\n",
        "  - 0 for all x > 0,\n",
        "  - And 0.5 at x = 0 to smoothly handle the discontinuity at the center.  \n",
        "\n",
        "  This discontinuous IC tests the stability and robustness of the numerical solvers when dealing with sharp gradients, which are common in biological excitation models.\n",
        "\n",
        "Using both smooth and step initial conditions allows us to evaluate the performance of each numerical method under different difficulty levels."
      ],
      "metadata": {
        "id": "Zx687f_7LHXU"
      }
    },
    {
      "cell_type": "code",
      "source": [
        "# Boundary Conditions\n",
        "def apply_bc(u, t, ncase):\n",
        "    if ncase == 1: u[0], u[-1] = analytical_solution(x[0], t), analytical_solution(x[-1], t)\n",
        "    elif ncase == 2: u[0], u[-1] = 1.0, 0.0\n",
        "    elif ncase == 3:\n",
        "        u[0] = u[1] - dx * ux_exact(x[0], t)\n",
        "        u[-1] = u[-2] + dx * ux_exact(x[-1], t)\n",
        "    elif ncase == 4: u[0], u[-1] = u[1], u[-2]\n",
        "    elif ncase == 5: u[0], u[-1] = u[1], u[-2]\n",
        "    return u"
      ],
      "metadata": {
        "id": "tkJ9KCzMLHsF"
      },
      "execution_count": null,
      "outputs": []
    },
    {
      "cell_type": "markdown",
      "source": [
        "### Boundary-Condition\n",
        "according to one of five pre-defined boundary-condition cases:\n",
        "\n",
        "| Case | Label | Mathematical prescription applied at every time step |\n",
        "|----------|-----------|-----------------------------------------------------------|\n",
        "| 1 | Dirichlet – Analytical | $$u_0(t)=u_a(x_0,t), \\qquad u_{N_x-1}(t)=u_a(x_{N_x-1},t)$$ |\n",
        "| 2 | Dirichlet – Constant   | $$u_0(t)=1.0, \\qquad u_{N_x-1}(t)=0.0$$ |\n",
        "| 3 | Neumann – Analytical   | $$u_0(t)=u_1(t)-\\Delta x\\,u_x^{\\mathrm{exact}}(x_0,t)$$ $$u_{N_x-1}(t)=u_{N_x-2}(t)+\\Delta x\\,u_x^{\\mathrm{exact}}\\!(x_{N_x-1},t)$$ |\n",
        "| 4 | Neumann – Homogeneous  | $$u_0(t)=u_1(t), \\qquad u_{N_x-1}(t)=u_{N_x-2}(t) \\quad(\\partial u/\\partial x=0)$$ |\n",
        "| 5 | Free / Copy            | $$u_0(t)=u_1(t), \\qquad u_{N_x-1}(t)=u_{N_x-2}(t)$$ |\n",
        "\n",
        "\n",
        "> • u_a is the analytical solution used as an exact Dirichlet reference.  \n",
        "> • u_x is the exact spatial derivative for Neumann reference data.  \n",
        "> • Cases 4 and 5 are numerically identical for a uniform grid; case 5 is simply a “free” (copy) boundary sometimes used as a quick test.\n",
        "\n",
        "After choosing a case number ncase, the call  \n",
        "\n",
        "u = apply_bc(u, t_current, ncase)"
      ],
      "metadata": {
        "id": "NLawckpXats1"
      }
    },
    {
      "cell_type": "markdown",
      "source": [],
      "metadata": {
        "id": "nbnrTFM5LQsY"
      }
    },
    {
      "cell_type": "code",
      "source": [
        "# Simulation Settings\n",
        "cases_BC = {1: \"Dirichlet-Analytical\", 2: \"Dirichlet-Constant\",\n",
        "            3: \"Neumann-Analytical\", 4: \"Neumann-Homogeneous\", 5: \"Free\"}\n",
        "ICs = {\"smooth\": ic_smooth, \"step\": ic_step}\n",
        "# set ncase ( 1, 2, 3, 4, or 5) --------\n",
        "ncase = 5"
      ],
      "metadata": {
        "id": "j4FE6I-HLQ0o"
      },
      "execution_count": null,
      "outputs": []
    },
    {
      "cell_type": "markdown",
      "source": [
        "### Simulation Settings\n",
        "\n",
        "This section defines the configuration dictionaries used to map numerical identifiers to readable descriptions for:\n",
        "\n",
        "#### • Boundary Conditions (cases_BC)\n",
        "A dictionary mapping integers to string labels for the five implemented boundary condition types:\n",
        "\n",
        "- 1: Dirichlet-Analytical\n",
        "- 2: Dirichlet-Constant\n",
        "- 3: Neumann-Analytical\n",
        "- 4: Neumann-Homogeneous\n",
        "- 5: Free\n",
        "\n",
        "These values are used as input to the apply_bc() function to select the boundary condition for a specific simulation.\n",
        "\n",
        "#### • Initial Conditions (ICs)\n",
        "A dictionary mapping string keys to the respective functions defining the initial condition:\n",
        "\n",
        "- \"smooth\": uses the analytical solution at t = 0\n",
        "- \"step\": defines a unit step function centered at x = 0\n",
        "\n",
        "These mappings allow us to flexibly run simulations with different physical scenarios by referencing readable keys."
      ],
      "metadata": {
        "id": "_pb_mdkDLZQO"
      }
    },
    {
      "cell_type": "markdown",
      "source": [],
      "metadata": {
        "id": "5Jfqen-hO0X7"
      }
    },
    {
      "cell_type": "code",
      "source": [
        "#Euler FDM Solver\n",
        "def euler_fdm(u0, ncase):\n",
        "    u = u0.copy()\n",
        "    sn = []\n",
        "    for n in range(Nt + 1):\n",
        "        if n in save_steps:\n",
        "            sn.append(u.copy())\n",
        "        rhs = D * (u[2:] - 2 * u[1:-1] + u[:-2]) / dx**2 - u[1:-1] * (1 - u[1:-1]) * (a - u[1:-1])\n",
        "        u[1:-1] += dt * rhs\n",
        "        u = apply_bc(u, (n + 1) * dt, ncase)\n",
        "    return np.array(sn)"
      ],
      "metadata": {
        "id": "wZCvQKtdLZZF"
      },
      "execution_count": null,
      "outputs": []
    },
    {
      "cell_type": "markdown",
      "source": [
        "## Euler (FDM) :\n",
        "This function numerically solves a one-dimensional reaction-diffusion equation using the explicit Euler method and finite difference discretization (FDM).\n",
        "\n",
        "## Function Inputs:\n",
        "- **u0**: Initial condition array (initial concentration or temperature profile, for example).\n",
        "- **ncase**: Boundary condition case, passed to the apply_bc() function.\n",
        "\n",
        "## How it Works:\n",
        "### Initialization\n",
        "- **u** is a copy of the initial condition **u0**.\n",
        "- **sn** is a list to store snapshots (saved solutions) at specific time steps.\n",
        "\n",
        "### Time-stepping loop (for n in range(Nt + 1)):\n",
        "For each time step:\n",
        "- If the current step **n** is in **save_steps**, the current solution **u** is saved in **sn**.\n",
        "\n",
        "### Finite Difference Discretization\n",
        "The central difference formula is used to approximate the second spatial derivative (diffusion term):\n",
        "\n",
        "$$\n",
        "\\frac{\\partial^2 u}{\\partial x^2} \\approx \\frac{u[i+1] - 2u[i] + u[i-1]}{dx^2}\n",
        "$$\n",
        "\n",
        "The reaction term\n",
        "\n",
        "$$\n",
        "u(1-u)(a-u)\n",
        "$$\n",
        "\n",
        "is applied to the inner points **u[1:-1]**.\n",
        "\n",
        "**rhs** stores the total rate of change (diffusion – reaction) at each interior point.\n",
        "\n",
        "### Euler Time Integration\n",
        "The explicit Euler method updates the solution:\n",
        "\n",
        "$$\n",
        "u^{n+1} = u^n + \\Delta t \\cdot \\text{rhs}\n",
        "$$\n",
        "\n",
        "### Apply Boundary Conditions\n",
        "**apply_bc()** is called to enforce boundary conditions on **u** at each time step.\n",
        "\n",
        "### Return Solution\n",
        "After the loop ends, the function returns a NumPy array of the saved solution snapshots."
      ],
      "metadata": {
        "id": "FU97T22LLjEE"
      }
    },
    {
      "cell_type": "code",
      "source": [
        " # FVM Solver\n",
        " def fvm(u0, ncase):\n",
        "    u = u0.copy()\n",
        "    sn = []\n",
        "    for n in range(Nt + 1):\n",
        "        if n in save_steps:\n",
        "            sn.append(u.copy())\n",
        "        flux = np.zeros_like(u)\n",
        "        flux[1:-1] = D * (u[2:] - u[:-2]) / (2 * dx)\n",
        "        div_flux = np.zeros_like(u)\n",
        "        div_flux[1:-1] = (flux[2:] - flux[:-2]) / (2 * dx)\n",
        "        reaction = u * (1 - u) * (a - u)\n",
        "        u[1:-1] += dt * (div_flux[1:-1] - reaction[1:-1])\n",
        "        u = apply_bc(u, (n + 1) * dt, ncase)\n",
        "    return np.array(sn)"
      ],
      "metadata": {
        "id": "dSiL8KmYLjLv"
      },
      "execution_count": null,
      "outputs": []
    },
    {
      "cell_type": "markdown",
      "source": [
        " # Finite Volume Method (FVM) :\n",
        "  This function numerically solves the partial differential equation using the Finite Volume Method (FVM). It computes the solution u over time using the method of flux balances.\n",
        "\n",
        "Function: fvm(u0, ncase)\n",
        "## Inputs:\n",
        "\n",
        "- u0: initial condition (solution vector at t=0).\n",
        "\n",
        "- ncase: selected boundary condition case.\n",
        "\n",
        "## Workflow:\n",
        "- ### Initialization :\n",
        " A copy of the initial solution is made.\n",
        "An empty list sn is used to store snapshots at selected time steps.\n",
        "\n",
        "- ### Time Loop :\n",
        " At each time step, if it matches a save_steps index, the current solution is saved.\n",
        "\n",
        "- ### Flux Computation :\n",
        "The numerical flux across cell faces is computed using central difference:\n",
        "\n",
        "### Flux Term:\n",
        "$$\n",
        "\\text{flux}_i = D \\cdot \\frac{u_{i+1} - u_{i-1}}{2\\Delta x}\n",
        "$$\n",
        "\n",
        "### Divergence of Flux:\n",
        "The divergence (net flux out of a control volume) is computed as:\n",
        "$$\n",
        "\\text{div\\_flux}_i = \\frac{\\text{flux}_{i+1} - \\text{f_\n",
        "\n",
        "\n",
        "- ### Update Rule:\n",
        "\n",
        "The solution is updated explicitly using the FVM form:\n",
        "\n",
        "- ### Time-stepping Update Equation:\n",
        "$$\n",
        "u_i^{n+1} = u_i^n + \\Delta t \\cdot \\left( \\text{div\\_flux}_i - \\text{reaction}_i \\right)\n",
        "$$\n",
        "\n",
        "- ### Boundary Conditions:\n",
        "\n",
        "Boundary conditions are enforced using the apply_bc function.\n",
        "\n",
        "- ### Output:\n",
        "\n",
        "Returns an array of saved solution snapshots over time."
      ],
      "metadata": {
        "id": "uQroqCERLpOO"
      }
    },
    {
      "cell_type": "code",
      "source": [
        "# Table Creation Function\n",
        "def create_table(x, u, ux_num, t, uref=None):\n",
        "    if uref is not None:\n",
        "        err = np.abs((u - uref) / uref) * 100 if uref.any() else np.zeros_like(u)\n",
        "    else:\n",
        "        err = np.zeros_like(u)\n",
        "    data = np.column_stack((x, np.full_like(x, t), u, ux_num, err))\n",
        "    df = pd.DataFrame(data, columns=['x', 't', 'u', 'ux', 'err'])\n",
        "    return df"
      ],
      "metadata": {
        "id": "PoQWb2mSLpYL"
      },
      "execution_count": null,
      "outputs": []
    },
    {
      "cell_type": "markdown",
      "source": [
        "# Table Creation Function (create_table)\n",
        "This function creates a structured table (as a Pandas DataFrame) containing important simulation results at a given time step:\n",
        "\n",
        "## Inputs:\n",
        "\n",
        "- x: spatial grid points.\n",
        "\n",
        "- u: numerical solution at time t.\n",
        "\n",
        "- ux_num: spatial derivative (or other quantity) at time t.\n",
        "\n",
        "- t: current time.\n",
        "\n",
        "- uref (optional): analytical solution at time t (used to compute relative error).\n",
        "\n",
        "## Output:\n",
        "\n",
        "A DataFrame with the following columns:\n",
        "\n",
        "- x: spatial position.\n",
        "\n",
        "- t: time value (constant for the whole row).\n",
        "\n",
        "- u: numerical solution.\n",
        "\n",
        "- ux: computed numerical derivative.\n",
        "\n",
        "- err: relative error (in %) between numerical and reference solution if available, otherwise 0.\n",
        "\n",
        "This table is used for organizing results and further analysis, such as plotting or saving to CSV."
      ],
      "metadata": {
        "id": "-w58NmhRLy8i"
      }
    },
    {
      "cell_type": "code",
      "source": [
        "# Runner Loop\n",
        "for ic_name, ic_fun in ICs.items():\n",
        "    u0 = ic_fun()\n",
        "    uref = analytical_solution(x, snap_times) if ic_name == \"smooth\" else None\n",
        "\n",
        "    bc_name = cases_BC.get(ncase, \"Unknown BC\")\n",
        "    if ic_name == \"step\" and ncase in (1, 3):\n",
        "        print(f\"\\n== {ic_name} IC with {bc_name} ==\")\n",
        "        print(\"No plots available for step IC with this boundary condition.\")\n",
        "        continue\n",
        "\n",
        "    print(f\"\\n== Running {ic_name} IC with {bc_name} ==\")\n",
        "\n",
        "    print(\"→ Euler iterations...\")\n",
        "    start = time.time()\n",
        "    eu_sn = euler_fdm(u0, ncase)\n",
        "    print(f\"Euler done in {time.time() - start:.2f}s\")\n",
        "\n",
        "    print(\"→ FVM iterations...\")\n",
        "    start = time.time()\n",
        "    fv_sn = fvm(u0, ncase)\n",
        "    print(f\"FVM done in {time.time() - start:.2f}s\")"
      ],
      "metadata": {
        "id": "lKkLPI0DLzEI"
      },
      "execution_count": null,
      "outputs": []
    },
    {
      "cell_type": "markdown",
      "source": [
        "This loop runs the simulation for each combination of initial conditions (ICs) and boundary condition cases (BCs):\n",
        "\n",
        "For each IC, the initial profile u0 is generated.\n",
        "\n",
        "- If the IC is \"smooth\", we compute the analytical solution to compare with numerical results.\n",
        "\n",
        "- If the IC is \"step\" with Dirichlet BC (case 1 or 3), we skip plotting because it’s not valid.\n",
        "\n",
        "Then we run both solvers:\n",
        "\n",
        "- euler_fdm() → Finite Difference Method with Euler time integration.\n",
        "\n",
        "- fvm() → Finite Volume Method.\n",
        "\n",
        "Execution time for each solver is measured and printed.\n",
        "\n",
        "The results are saved in eu_sn and fv_sn respectively for further processing (plotting, error analysis, etc."
      ],
      "metadata": {
        "id": "Hp6BVrx3Pki9"
      }
    },
    {
      "cell_type": "code",
      "source": [
        " # -- Euler tables and plot\n",
        "    for k, t in enumerate(snap_times):\n",
        "        eu_u = eu_sn[k]\n",
        "        ux_eu = np.zeros_like(eu_u)\n",
        "        ux_eu[1:-1] = (eu_u[2:] - eu_u[:-2]) / (2 * dx)\n",
        "        ux_eu[0] = (eu_u[1] - eu_u[0]) / dx\n",
        "        ux_eu[-1] = (eu_u[-1] - eu_u[-2]) / dx\n",
        "        eu_table = create_table(x, eu_u, ux_eu, t, uref[:, k] if uref is not None else None)\n",
        "        print(f\"\\nEuler Table (t = {t}):\")\n",
        "        print(eu_table)\n",
        "\n",
        "    plt.figure(figsize=(8, 3))\n",
        "    for k, t in enumerate(snap_times):\n",
        "        plt.plot(x, eu_sn[k], label=f\"t={t}\")\n",
        "    plt.title(f\"Euler – {ic_name} – {bc_name}\")\n",
        "    plt.xlabel(\"x\"); plt.ylabel(\"u\")\n",
        "    plt.grid(); plt.legend(); plt.tight_layout()\n",
        "    plt.show()"
      ],
      "metadata": {
        "id": "pxTMi9XMPmmE"
      },
      "execution_count": null,
      "outputs": []
    },
    {
      "cell_type": "markdown",
      "source": [
        "# Euler Solution Tables and Plotting\n",
        "This block of code generates tables and plots for the solution computed using the Euler Finite Difference Method (FDM).\n",
        "\n",
        "\n",
        "1. Gradient Calculation:\n",
        "\n",
        "\n",
        "For each snapshot time t in snap_times:\n",
        "\n",
        "Compute the numerical spatial derivative\n",
        "$$\n",
        "\\frac{\\partial u}{\\partial x}\n",
        "$$\n",
        "  using central differences:\n",
        "\n",
        "For\n",
        "$$\n",
        "\\frac{u_{i+1} - u_{i-1}}{2\\Delta x}, \\quad \\text{for } 1 \\leq i \\leq N - 1\n",
        "$$\n",
        "\n",
        "\n",
        "For boundaries (forward/backward difference):\n",
        "\n",
        "- At the left boundary:\n",
        "$$\n",
        "\\frac{u_1 - u_0}{\\Delta x}\n",
        "$$\n",
        "\n",
        "\n",
        "\n",
        "- At the right boundary:\n",
        "$$\n",
        "\\frac{u_N - u_{N-1}}{\\Delta x}\n",
        "$$\n",
        "\n",
        "\n",
        "\n",
        "2. Table Generation:\n",
        "\n",
        "\n",
        "Use the create_table() function to generate a table containing:\n",
        "\n",
        "- Spatial points x\n",
        "\n",
        "- Time t\n",
        "\n",
        "- Numerical solution u\n",
        "\n",
        "- Gradient\n",
        "$$\n",
        "\\frac{\\partial u}{\\partial x}\n",
        "$$\n",
        "\n",
        "\n",
        "\n",
        "- Relative error (if reference solution is available)\n",
        "\n",
        "3. Plotting:\n",
        "\n",
        "\n",
        "- Create a line plot showing the numerical solution\n",
        "𝑢\n",
        "(\n",
        "𝑥\n",
        ",\n",
        "𝑡\n",
        ")\n",
        " at each snapshot time.\n",
        "\n",
        "- The plot helps visualize how the solution evolves over time.\n",
        "\n",
        "- Useful for comparing behavior under different initial/boundary conditions."
      ],
      "metadata": {
        "id": "HboXAv6YQ0Wx"
      }
    },
    {
      "cell_type": "code",
      "source": [
        "# -- FVM tables and plot\n",
        "    for k, t in enumerate(snap_times):\n",
        "        fv_u = fv_sn[k]\n",
        "        ux_fv = np.zeros_like(fv_u)\n",
        "        ux_fv[1:-1] = (fv_u[2:] - fv_u[:-2]) / (2 * dx)\n",
        "        ux_fv[0] = (fv_u[1] - fv_u[0]) / dx\n",
        "        ux_fv[-1] = (fv_u[-1] - fv_u[-2]) / dx\n",
        "        fv_table = create_table(x, fv_u, ux_fv, t, uref[:, k] if uref is not None else None)\n",
        "        print(f\"\\nFVM Table (t = {t}):\")\n",
        "        print(fv_table)\n",
        "\n",
        "    plt.figure(figsize=(8, 3))\n",
        "    for k, t in enumerate(snap_times):\n",
        "        plt.plot(x, fv_sn[k], label=f\"t={t}\")\n",
        "    plt.title(f\"FVM – {ic_name} – {bc_name}\")\n",
        "    plt.xlabel(\"x\"); plt.ylabel(\"u\")\n",
        "    plt.grid(); plt.legend(); plt.tight_layout()\n",
        "    plt.show()"
      ],
      "metadata": {
        "id": "Bk7lY3dVQ1u8"
      },
      "execution_count": null,
      "outputs": []
    },
    {
      "cell_type": "markdown",
      "source": [
        "# FVM Solution Tables and Plotting\n",
        "This section handles the post-processing and visualization of the numerical solution computed using the Finite Volume Method (FVM).\n",
        "\n",
        "1. Gradient Calculation:\n",
        "For each time step in snap_times, the numerical spatial derivative\n",
        "\n",
        "$$\n",
        "\\frac{\\partial u}{\\partial x}\n",
        "$$\n",
        "\n",
        "  is computed using:\n",
        "\n",
        "- Central differences for interior points:\n",
        "\n",
        "$$\n",
        "\\frac{u_{i+1} - u_{i-1}}{2\\Delta x}\n",
        "$$\n",
        "\n",
        "\n",
        "Forward/backward differences for boundary points:\n",
        "\n",
        "$$\n",
        "\\frac{u_1 - u_0}{\\Delta x}, \\quad \\frac{u_N - u_{N-1}}{\\Delta x}\n",
        "$$\n",
        "\n",
        "\n",
        "2. Table Creation:\n",
        "A table is created using the create_table() function, containing:\n",
        "\n",
        "- Spatial coordinate x\n",
        "\n",
        "- Current time t\n",
        "\n",
        "- Numerical solution u\n",
        "\n",
        "- Spatial gradient\n",
        "$$\n",
        "\\frac{\\partial u}{\\partial x}\n",
        "$$\n",
        "\n",
        "\n",
        "- Relative error with respect to the analytical reference (if available)\n",
        "\n",
        "\n",
        "3. Plotting:\n",
        "\n",
        "\n",
        "- A plot of the solution profile\n",
        "𝑢\n",
        "(\n",
        "𝑥\n",
        ",\n",
        "𝑡\n",
        ")\n",
        " is generated for each snapshot time.\n",
        "\n",
        "- This visualization helps evaluate the dynamic behavior of the solution under the given initial and boundary conditions using FVM."
      ],
      "metadata": {
        "id": "gcWjZSuLRAuR"
      }
    },
    {
      "cell_type": "code",
      "source": [
        " # -- plot combined with analytical\n",
        "    plt.figure(figsize=(8, 3))\n",
        "    for k, t in enumerate(snap_times):\n",
        "        if uref is not None:\n",
        "            plt.plot(x, uref[:, k], 'k--', alpha=0.5, label=\"Analytical\" if k == 0 else \"\")\n",
        "        plt.plot(x, eu_sn[k], '-', alpha=0.8, label=\"Euler\" if k == 0 else \"\")\n",
        "        plt.plot(x, fv_sn[k], '--', alpha=0.8, label=\"FVM\" if k == 0 else \"\")\n",
        "    plt.title(f\"All Methods – {ic_name} – {bc_name}\")\n",
        "    plt.xlabel(\"x\"); plt.ylabel(\"u\")\n",
        "    plt.grid(); plt.legend(); plt.tight_layout()\n",
        "    plt.show()"
      ],
      "metadata": {
        "id": "c6u_PYS1RB-q"
      },
      "execution_count": null,
      "outputs": []
    },
    {
      "cell_type": "markdown",
      "source": [
        "# Combined Plot: Euler, FVM, and Analytical Solution\n",
        "This section provides a comparative visualization of all numerical and analytical results.\n",
        "\n",
        "## Purpose:\n",
        " ### To compare:\n",
        "\n",
        "- Euler Finite Difference Method (FDM)\n",
        "\n",
        "- Finite Volume Method (FVM)\n",
        "\n",
        "- Analytical solution (if available)\n",
        "\n",
        "at various snapshot times defined in snap_times.\n",
        "\n",
        "## Details:\n",
        "- uref[:, k] is the analytical reference at time t_k, plotted as a dashed black line (k--).\n",
        "\n",
        "- eu_sn[k] is the Euler solution at t_k, plotted as a solid line.\n",
        "\n",
        "- fv_sn[k] is the FVM solution at t_k, plotted as a dashed colored line.\n",
        "\n",
        "The label is added only for the first curve of each method to keep the legend clean.\n",
        "\n",
        "## Why it matters:\n",
        "- This plot allows for direct visual comparison:\n",
        "\n",
        "- Accuracy of each numerical method vs. the true solution.\n",
        "\n",
        "- Behavior and stability over time.\n",
        "\n",
        "- Effect of boundary and initial conditions on both methods."
      ],
      "metadata": {
        "id": "giQXC_KET7Tb"
      }
    },
    {
      "cell_type": "code",
      "source": [
        " # -- Calculate and print relative errors\n",
        "    if uref is not None:\n",
        "        rel_error_euler = np.abs((eu_sn - uref.T) / uref.T) * 100\n",
        "        rel_error_fvm = np.abs((fv_sn - uref.T) / uref.T) * 100\n",
        "        rel_error_euler[np.isnan(rel_error_euler)] = 0\n",
        "        rel_error_fvm[np.isnan(rel_error_fvm)] = 0\n",
        "        avg_rel_euler = np.mean(rel_error_euler, axis=1)  # Average over x for each t\n",
        "        avg_rel_fvm = np.mean(rel_error_fvm, axis=1)      # Average over x for each t\n",
        "        print(\"\\nRelative Errors and Averages:\")\n",
        "        for k, t in enumerate(snap_times):\n",
        "            print(f\"t = {t}: Euler Avg Rel Error = {avg_rel_euler[k]:.2f}%, FVM Avg Rel Error = {avg_rel_fvm[k]:.2f}%\")"
      ],
      "metadata": {
        "id": "Zg6WkvxmT-Hg"
      },
      "execution_count": null,
      "outputs": []
    },
    {
      "cell_type": "markdown",
      "source": [
        "#  Relative Error Calculation and Analysis\n",
        "This section evaluates the accuracy of the numerical methods (Euler and FVM) by comparing them to the analytical solution.\n",
        "\n",
        "## Key Steps:\n",
        "- ## Relative Error Formula:\n",
        "\n",
        "$$\n",
        "\\text{Relative Error} = \\left| \\frac{u_{\\text{num}} - u_{\\text{ref}}}{u_{\\text{ref}}} \\right| \\times 100\n",
        "$$\n",
        "\n",
        "where:\n",
        "\n",
        "- u_num is the numerical solution (Euler or FVM),\n",
        "\n",
        "- u_ref is the analytical solution.\n",
        "\n",
        "## Handling NaNs:\n",
        "In divisions where the reference value is zero, NaNs may appear. These are set to zero for clean averaging.\n",
        "\n",
        "## Averaging:\n",
        "\n",
        "The relative error is averaged over all spatial points for each time snapshot.\n",
        "\n",
        "This gives a single percentage that reflects the overall deviation of the method from the analytical solution at a given time.\n",
        "\n",
        "## Output:\n",
        "A printout for each time t, showing:\n",
        "\n",
        "- Euler Average Relative Error\n",
        "\n",
        "- FVM Average Relative Error\n",
        "\n",
        "## Purpose:\n",
        "To quantitatively compare both methods’ performance over time and observe how errors evolve."
      ],
      "metadata": {
        "id": "mNGq9K8eUEfD"
      }
    },
    {
      "cell_type": "code",
      "source": [
        "# -- error plot (only for smooth with analytical solution)\n",
        "    if uref is not None:\n",
        "        plt.figure(figsize=(8, 3))\n",
        "        rel_err_eu = np.abs((eu_sn - uref.T) / uref.T) * 100\n",
        "        rel_err_fv = np.abs((fv_sn - uref.T) / uref.T) * 100\n",
        "        rel_err_eu[np.isnan(rel_err_eu)] = 0\n",
        "        rel_err_fv[np.isnan(rel_err_fv)] = 0\n",
        "        plt.plot(x, rel_err_eu[-1], label=\"Euler Error %\")\n",
        "        plt.plot(x, rel_err_fv[-1], label=\"FVM Error %\")\n",
        "        plt.title(f\"Relative Errors – {ic_name} – {bc_name}\")\n",
        "        plt.xlabel(\"x\"); plt.ylabel(\"Error (%)\")\n",
        "        plt.grid(); plt.legend(); plt.tight_layout()\n",
        "        plt.show()"
      ],
      "metadata": {
        "id": "h4uC0GgYUEzl"
      },
      "execution_count": null,
      "outputs": []
    },
    {
      "cell_type": "markdown",
      "source": [
        "# Relative Error Plot (Final Time Step)\n",
        "\n",
        "\n",
        "This section visualizes the spatial distribution of relative errors between the analytical and numerical solutions at the final time snapshot.\n",
        "\n",
        "## Key Points:\n",
        "- Runs only when the reference (analytical) solution is available (i.e., for the \"smooth\" initial condition).\n",
        "\n",
        "- Helps evaluate how accurately the numerical method approximates the true solution.\n",
        "\n",
        "\n",
        "\n",
        "## Error Calculation:\n",
        "\n",
        "    \n",
        "$$\n",
        "\\text{Error}(x) = \\left| \\frac{u_{\\text{num}}(x) - u_{\\text{ref}}(x)}{u_{\\text{ref}}(x)} \\right| \\times 100\n",
        "$$\n",
        "\n",
        "## Visualization:\n",
        "\n",
        "Plots the percentage error at each spatial point x for both:\n",
        "\n",
        "- Euler method\n",
        "\n",
        "- FVM method\n",
        "\n",
        "## NaN Handling:\n",
        "Any division by zero (in the case of u_ref = 0) is resolved by setting the error to zero to avoid skewed visualization.\n",
        "\n",
        "## Purpose:\n",
        "To clearly see where each numerical method performs well or poorly across the spatial domain. Helps identify any instability or diffusion errors near boundaries or steep gradients."
      ],
      "metadata": {
        "id": "qPdmnyW9UP84"
      }
    }
  ]
}